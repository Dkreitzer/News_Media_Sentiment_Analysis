{
 "cells": [
  {
   "cell_type": "markdown",
   "metadata": {},
   "source": [
    "# News Media Sentiment Analysis\n",
    "\n",
    "## Using Vader Sentiment Analysis\n",
    "#### https://github.com/cjhutto/vaderSentiment\n",
    "#### \"VADER (Valence Aware Dictionary and sEntiment Reasoner) is a lexicon and rule-based sentiment analysis tool that is specifically attuned to sentiments expressed in social media.\"\n",
    "\n",
    "## Process Overview:\n",
    "* Load Dependencies & API credentials\n",
    "* Scrape 100 recent tweets posted by [BBC, CBS, CNN, FOX, and NY Times]\n",
    "* Capture compound sentiment analysis result from each tweet in a Pandas DataFrame\n",
    "* Scatter Plot of most recent tweets\n",
    "* Bar chart of avg. compound sentiment analysis resut for each news media firm\n"
   ]
  },
  {
   "cell_type": "code",
   "execution_count": 1,
   "metadata": {},
   "outputs": [],
   "source": [
    "%matplotlib inline\n",
    "# Dependencies and Setup\n",
    "import matplotlib.pyplot as plt\n",
    "\n",
    "\n",
    "# Dependencies\n",
    "import tweepy\n",
    "import numpy as np\n",
    "import pandas as pd\n",
    "from datetime import datetime\n",
    "\n",
    "\n",
    "# Import and Initialize Sentiment Analyzer\n",
    "from vaderSentiment.vaderSentiment import SentimentIntensityAnalyzer\n",
    "analyzer = SentimentIntensityAnalyzer()\n",
    "\n",
    "# Twitter API Keys\n",
    "from Twitter_Config import (consumer_key, \n",
    "                    consumer_secret, \n",
    "                    access_token, \n",
    "                    access_token_secret)\n",
    "\n",
    "# Setup Tweepy API Authentication\n",
    "auth = tweepy.OAuthHandler(consumer_key, consumer_secret)\n",
    "auth.set_access_token(access_token, access_token_secret)\n",
    "api = tweepy.API(auth, parser=tweepy.parsers.JSONParser())"
   ]
  },
  {
   "cell_type": "code",
   "execution_count": 2,
   "metadata": {},
   "outputs": [
    {
     "name": "stdout",
     "output_type": "stream",
     "text": [
      "BBC has 100 results and the last tweet counter is 100\n",
      "CBS has 100 results and the last tweet counter is 100\n",
      "CNN has 100 results and the last tweet counter is 100\n",
      "FOX has 100 results and the last tweet counter is 100\n",
      "nytimes has 100 results and the last tweet counter is 100\n"
     ]
    }
   ],
   "source": [
    "#News Organizations\n",
    "Search_Terms = ('BBC', 'CBS', 'CNN', 'FOX', 'nytimes')\n",
    "\n",
    "#list to temporarily hold results\n",
    "Results_List = []\n",
    "\n",
    "#create timestamp for visualization titles\n",
    "tm = str(pd.to_datetime(datetime.now()))\n",
    "\n",
    "\n",
    "# return 100 tweets for each news outlet - so 500 tweet returns total\n",
    "for target in Search_Terms:\n",
    "    \n",
    "    oldest_tweet = None\n",
    "    \n",
    "    Compound_list = []\n",
    "    Tweet_Number = []\n",
    "    counter = 0\n",
    "    \n",
    "    for x in range(1):\n",
    "    \n",
    "        news_tweets = api.search(\n",
    "            target,count=100, result_type=\"recent\", max_id=oldest_tweet)\n",
    "\n",
    "       \n",
    "\n",
    "        #Loop through each tweet\n",
    "        for tweet in news_tweets[\"statuses\"]:\n",
    "            \n",
    "            counter = counter + 1\n",
    "\n",
    "#             #Record Tweet ID for temporary purposes to identify the oldest tweet\n",
    "#             tweet_id = tweet[\"id\"]\n",
    "\n",
    "            # Run Compound Vader Analysis on each tweet\n",
    "            results = analyzer.polarity_scores(tweet[\"text\"])\n",
    "            Compound_list.append(results['compound'])\n",
    "            Tweet_Number.append(counter)\n",
    "\n",
    "            Sentiment = {\n",
    "                \"Company\":target,\n",
    "                \"Compound Result\": Compound_list,\n",
    "                \"Tweet Number\": Tweet_Number}\n",
    "            \n",
    "            oldest_tweet = tweet[\"id\"] - 1\n",
    "\n",
    "      \n",
    "    \n",
    "    Results_List.append(Sentiment)\n",
    "    print(f\"{target} has {len(Compound_list)} results and the last tweet counter is {counter}\")\n",
    "\n",
    "\n",
    "\n",
    "\n"
   ]
  },
  {
   "cell_type": "code",
   "execution_count": 3,
   "metadata": {},
   "outputs": [
    {
     "data": {
      "text/html": [
       "<div>\n",
       "<style scoped>\n",
       "    .dataframe tbody tr th:only-of-type {\n",
       "        vertical-align: middle;\n",
       "    }\n",
       "\n",
       "    .dataframe tbody tr th {\n",
       "        vertical-align: top;\n",
       "    }\n",
       "\n",
       "    .dataframe thead th {\n",
       "        text-align: right;\n",
       "    }\n",
       "</style>\n",
       "<table border=\"1\" class=\"dataframe\">\n",
       "  <thead>\n",
       "    <tr style=\"text-align: right;\">\n",
       "      <th></th>\n",
       "      <th>Company</th>\n",
       "      <th>Compound Result</th>\n",
       "      <th>Tweet Number</th>\n",
       "    </tr>\n",
       "  </thead>\n",
       "  <tbody>\n",
       "    <tr>\n",
       "      <th>0</th>\n",
       "      <td>nytimes</td>\n",
       "      <td>0.8519</td>\n",
       "      <td>1</td>\n",
       "    </tr>\n",
       "    <tr>\n",
       "      <th>1</th>\n",
       "      <td>nytimes</td>\n",
       "      <td>-0.6597</td>\n",
       "      <td>2</td>\n",
       "    </tr>\n",
       "    <tr>\n",
       "      <th>2</th>\n",
       "      <td>nytimes</td>\n",
       "      <td>0.0000</td>\n",
       "      <td>3</td>\n",
       "    </tr>\n",
       "    <tr>\n",
       "      <th>3</th>\n",
       "      <td>nytimes</td>\n",
       "      <td>0.0000</td>\n",
       "      <td>4</td>\n",
       "    </tr>\n",
       "    <tr>\n",
       "      <th>4</th>\n",
       "      <td>nytimes</td>\n",
       "      <td>0.0000</td>\n",
       "      <td>5</td>\n",
       "    </tr>\n",
       "  </tbody>\n",
       "</table>\n",
       "</div>"
      ],
      "text/plain": [
       "   Company  Compound Result  Tweet Number\n",
       "0  nytimes           0.8519             1\n",
       "1  nytimes          -0.6597             2\n",
       "2  nytimes           0.0000             3\n",
       "3  nytimes           0.0000             4\n",
       "4  nytimes           0.0000             5"
      ]
     },
     "execution_count": 3,
     "metadata": {},
     "output_type": "execute_result"
    }
   ],
   "source": [
    "#Create individual DataFrames for Scatter Plot\n",
    "\n",
    "BBC_DF = pd.DataFrame(Results_List[0])\n",
    "CBS_DF = pd.DataFrame(Results_List[1])\n",
    "CNN_DF = pd.DataFrame(Results_List[2])\n",
    "Fox_DF = pd.DataFrame(Results_List[3])\n",
    "NYT_DF = pd.DataFrame(Results_List[4])\n",
    "\n",
    "NYT_DF.head()                      "
   ]
  },
  {
   "cell_type": "code",
   "execution_count": 4,
   "metadata": {},
   "outputs": [
    {
     "data": {
      "image/png": "[encoded data removed]",
      "text/plain": [
       "<Figure size 432x288 with 1 Axes>"
      ]
     },
     "metadata": {},
     "output_type": "display_data"
    }
   ],
   "source": [
    "#Scatter Plot\n",
    "#Defining the the X axis for all plots \n",
    "x_axis = list(range(1,101))\n",
    "\n",
    "# misc. scatter plot attributes\n",
    "plt.title(f\"Sentiment Analysis of Media Tweets ({tm})\")\n",
    "\n",
    "#Creating Y axis\n",
    "BBCY_Axis = BBC_DF['Compound Result']\n",
    "CBSY_Axis = CBS_DF['Compound Result']\n",
    "CNNY_Axis = CNN_DF['Compound Result']\n",
    "FoxY_Axis = Fox_DF['Compound Result']\n",
    "NYTY_Axis = NYT_DF['Compound Result']\n",
    "\n",
    "\n",
    "# Build the scatter plots for each news organization\n",
    "BBC_Scatter = plt.scatter(x_axis, BBCY_Axis,\n",
    "                            marker = \"o\",\n",
    "                            facecolors = \"lightblue\",\n",
    "                            edgecolors = \"black\",\n",
    "                            label = 'BBC')\n",
    "CBS_Scatter = plt.scatter(x_axis, CBSY_Axis,\n",
    "                            marker = \"o\",\n",
    "                            facecolors = \"green\",\n",
    "                            edgecolors = \"black\",\n",
    "                            label = 'CBS')\n",
    "CNN_Scatter = plt.scatter(x_axis, CNNY_Axis,\n",
    "                            marker = \"o\",\n",
    "                            facecolors = \"red\",\n",
    "                            edgecolors = \"black\",\n",
    "                            label = 'CNN')\n",
    "Fox_Scatter = plt.scatter(x_axis, FoxY_Axis,\n",
    "                            marker = \"o\",\n",
    "                            facecolors = \"blue\",\n",
    "                            edgecolors = \"black\",\n",
    "                            label = 'Fox')\n",
    "NYT_Scatter = plt.scatter(x_axis, NYTY_Axis,\n",
    "                            marker = \"o\",\n",
    "                            facecolors = \"gold\",\n",
    "                            edgecolors = \"black\",\n",
    "                            label = 'NYT')\n",
    "\n",
    "# Create a legend for our chart\n",
    "plt.legend(loc='center left',\n",
    "           bbox_to_anchor=(1, .75),\n",
    "           frameon=False)\n",
    "plt.xlabel('Tweets Ago')\n",
    "plt.ylabel('Tweet Polarity')\n",
    "plt.grid(True)\n",
    "plt.savefig(\"img/Overall_Media_Sentiment_Scatter_Plot.png\")\n",
    "plt.show()"
   ]
  },
  {
   "cell_type": "code",
   "execution_count": 5,
   "metadata": {},
   "outputs": [],
   "source": [
    "#Average Compound Numbers for each target\n",
    "\n",
    "#Create a dictionary so numbers are paired and can be used elsewhere\n",
    "news_tempDict = {\n",
    "            \"BBC\" : BBC_DF[\"Compound Result\"].mean(),\n",
    "            \"CBS\" : CBS_DF[\"Compound Result\"].mean(),\n",
    "            \"CNN\" : CNN_DF[\"Compound Result\"].mean(),\n",
    "            \"Fox\" : Fox_DF[\"Compound Result\"].mean(),\n",
    "            \"NYT\" : NYT_DF[\"Compound Result\"].mean()}\n",
    "\n",
    "#Create a list of the values for the bar chart\n",
    "\n",
    "names = news_tempDict.keys()\n",
    "\n",
    "#Variable for compound results\n",
    "\n",
    "results=list(news_tempDict.values())\n",
    "results_2 = pd.Series(results)"
   ]
  },
  {
   "cell_type": "code",
   "execution_count": 6,
   "metadata": {},
   "outputs": [
    {
     "data": {
      "image/png": "[encoded data removed]",
      "text/plain": [
       "<Figure size 864x576 with 1 Axes>"
      ]
     },
     "metadata": {},
     "output_type": "display_data"
    }
   ],
   "source": [
    "# Plot the figure.\n",
    "plt.figure(figsize=(12, 8))\n",
    "ax = results_2.plot(kind='bar', width=1)\n",
    "ax.set_title(f\"Overall Media Sentiment on Twitter ({tm})\")\n",
    "ax.set_ylabel('Tweet Poliarity')\n",
    "ax.set_xticklabels(names)\n",
    "\n",
    "\n",
    "\n",
    "rects = ax.patches\n",
    "\n",
    "# For each bar: Place a label\n",
    "for rect in rects:\n",
    "    # Get X and Y placement of label from rect.\n",
    "    y_value = rect.get_height()\n",
    "    x_value = rect.get_x() + rect.get_width() / 2\n",
    "\n",
    "    # Number of points between bar and label. Change to your liking.\n",
    "    space = 5\n",
    "    # Vertical alignment for positive values\n",
    "    va = 'bottom'\n",
    "\n",
    "    # If value of bar is negative: Place label below bar\n",
    "    if y_value < 0:\n",
    "        # Invert space to place label below\n",
    "        space *= -1\n",
    "        # Vertically align label at top\n",
    "        va = 'top'\n",
    "\n",
    "    # Use Y value as label and format number with one decimal place\n",
    "    label = \"{:.2f}\".format(y_value)\n",
    "\n",
    "    # Create annotation\n",
    "    plt.annotate(\n",
    "        label,                      # Use `label` as label\n",
    "        (x_value, y_value),         # Place label at end of the bar\n",
    "        xytext=(0, space),          # Vertically shift label by `space`\n",
    "        textcoords=\"offset points\", # Interpret `xytext` as offset in points\n",
    "        ha='center',                # Horizontally center label\n",
    "        va=va)                      # Vertically align label differently for\n",
    "                                    # positive and negative values.\n",
    "plt.xticks(rotation='horizontal')\n",
    "plt.savefig(\"img/Overall_Media_Sentiment_Bar_Chart.png\")"
   ]
  },
  {
   "cell_type": "code",
   "execution_count": null,
   "metadata": {},
   "outputs": [],
   "source": []
  }
 ],
 "metadata": {
  "kernelspec": {
   "display_name": "Python 3",
   "language": "python",
   "name": "python3"
  },
  "language_info": {
   "codemirror_mode": {
    "name": "ipython",
    "version": 3
   },
   "file_extension": ".py",
   "mimetype": "text/x-python",
   "name": "python",
   "nbconvert_exporter": "python",
   "pygments_lexer": "ipython3",
   "version": "3.6.6"
  },
  "varInspector": {
   "cols": {
    "lenName": 16,
    "lenType": 16,
    "lenVar": 40
   },
   "kernels_config": {
    "python": {
     "delete_cmd_postfix": "",
     "delete_cmd_prefix": "del ",
     "library": "var_list.py",
     "varRefreshCmd": "print(var_dic_list())"
    },
    "r": {
     "delete_cmd_postfix": ") ",
     "delete_cmd_prefix": "rm(",
     "library": "var_list.r",
     "varRefreshCmd": "cat(var_dic_list()) "
    }
   },
   "types_to_exclude": [
    "module",
    "function",
    "builtin_function_or_method",
    "instance",
    "_Feature"
   ],
   "window_display": false
  }
 },
 "nbformat": 4,
 "nbformat_minor": 2
}
